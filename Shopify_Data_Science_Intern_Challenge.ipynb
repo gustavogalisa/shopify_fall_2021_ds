{
  "nbformat": 4,
  "nbformat_minor": 0,
  "metadata": {
    "kernelspec": {
      "display_name": "Python 3",
      "language": "python",
      "name": "python3"
    },
    "language_info": {
      "codemirror_mode": {
        "name": "ipython",
        "version": 3
      },
      "file_extension": ".py",
      "mimetype": "text/x-python",
      "name": "python",
      "nbconvert_exporter": "python",
      "pygments_lexer": "ipython3",
      "version": "3.8.3"
    },
    "colab": {
      "name": "Shopify Data Science Intern Challenge.ipynb",
      "provenance": []
    }
  },
  "cells": [
    {
      "cell_type": "markdown",
      "metadata": {
        "id": "-VAaC9SHsy81"
      },
      "source": [
        "# Winter 2021 Data Science Intern Challenge "
      ]
    },
    {
      "cell_type": "markdown",
      "metadata": {
        "id": "XLhV4pZasy86"
      },
      "source": [
        "### The following data analysis refers to the challenge launched by shopify for the selection for the winter 2021 internship program."
      ]
    },
    {
      "cell_type": "markdown",
      "metadata": {
        "id": "dlCM5lLHsy87"
      },
      "source": [
        "**Question 1:** Given some sample data, write a program to answer the following:\n",
        "\n",
        "On Shopify, we have exactly 100 sneaker shops, and each of these shops sells only one model of shoe. We want to do some analysis of the average order value (AOV). When we look at orders data over a 30 day window, we naively calculate an AOV of $3145.13. Given that we know these shops are selling sneakers, a relatively affordable item, something seems wrong with our analysis. \n",
        "\n",
        "- Think about what could be going wrong with our calculation. Think about a better way to evaluate this data. \n",
        "\n",
        "**The main problem found in the dataset was the existence of a small number of orders strongly influencing the average - what we call outliers. The removal of these values for analysis purposes will favor the interpretation of the metrics.**\n",
        "\n",
        "- What metric would you report for this dataset?\n",
        "\n",
        "**The dataset has 17 orders (from shop_id 42) representing B2B operations. In addition, we can find some orders, such as order_id #692 which certainly represents a purchase of a luxury sneaker and this will continue to pull the average up.** \n",
        "\n",
        "- What is its value?\n",
        "\n",
        "**I suggest adopting the median of the processed dataset for a more reliable OAV. The value is $272.**\n",
        "\n",
        "\n",
        "**Question 2:** For this question you’ll need to use SQL. Follow this [link](https://www.w3schools.com/SQL/TRYSQL.ASP?FILENAME=TRYSQL_SELECT_ALL) to access the data set required for the challenge. Please use queries to answer the following questions. Paste your queries along with your final numerical answers below.\n",
        "\n",
        "- How many orders were shipped by Speedy Express in total?\n",
        "\n",
        "**NumberOfOrders: 54**\n",
        "\n",
        "```sql\n",
        "SELECT COUNT(*) AS NumberOfOrders\n",
        "FROM Orders\n",
        "JOIN Shippers\n",
        "ON Shippers.ShipperID = Orders.ShipperID\n",
        "WHERE Shippers.ShipperName = 'Speedy Express' \n",
        "\n",
        "\n",
        "- What is the last name of the employee with the most orders?\n",
        "\n",
        "**LastName: Peacock**\n",
        "\n",
        "\n",
        "```sql\n",
        "SELECT Employees.LastName, COUNT(*) AS NumberOfOrders\n",
        "FROM Orders\n",
        "JOIN Employees\n",
        "ON Orders.EmployeeID = Employees.EmployeeID\n",
        "GROUP BY Employees.LastName\n",
        "ORDER BY NumberOfOrders DESC\n",
        "LIMIT 1```\n",
        "\n",
        "\n",
        "- What product was ordered the most by customers in Germany?\n",
        "\n",
        "**ProductName: *Boston Crab Meat*, TotalOrdered: *160***\n",
        "\n",
        "Query:\n",
        "\n",
        "```sql\n",
        "SELECT Products.ProductName, SUM(OrderDetails.Quantity) AS \"totalOrdered\"\n",
        "FROM Orders\n",
        "JOIN Customers\n",
        "ON Customers.CustomerID = Orders.CustomerID\n",
        "JOIN OrderDetails\n",
        "ON OrderDetails.OrderID = Orders.OrderID\n",
        "JOIN Products\n",
        "ON Products.ProductID = OrderDetails.ProductID\n",
        "WHERE Customers.Country = 'Germany'\n",
        "GROUP BY OrderDetails.ProductID\n",
        "ORDER BY totalOrdered DESC ```\n"
      ]
    },
    {
      "cell_type": "markdown",
      "metadata": {
        "id": "86vuGqDzsy88"
      },
      "source": [
        "# Answers' explanation"
      ]
    },
    {
      "cell_type": "code",
      "metadata": {
        "id": "p96mSLRRsy88"
      },
      "source": [
        "#First of all, we need to import some libs and read de csv file\n",
        "import pandas as pd   #for data processing\n",
        "import numpy as np   #a lienar algebra lib\n",
        "\n",
        "df = pd.read_csv(\"dsChallenge.csv\")"
      ],
      "execution_count": null,
      "outputs": []
    },
    {
      "cell_type": "code",
      "metadata": {
        "id": "Q4bENCOwsy89",
        "outputId": "7346329e-f4a3-468f-82e1-f0b776809110"
      },
      "source": [
        "#In order to understand the data, we need to display some occurrences and check for descriptive statistics\n",
        "df.head(10)"
      ],
      "execution_count": null,
      "outputs": [
        {
          "output_type": "execute_result",
          "data": {
            "text/html": [
              "<div>\n",
              "<style scoped>\n",
              "    .dataframe tbody tr th:only-of-type {\n",
              "        vertical-align: middle;\n",
              "    }\n",
              "\n",
              "    .dataframe tbody tr th {\n",
              "        vertical-align: top;\n",
              "    }\n",
              "\n",
              "    .dataframe thead th {\n",
              "        text-align: right;\n",
              "    }\n",
              "</style>\n",
              "<table border=\"1\" class=\"dataframe\">\n",
              "  <thead>\n",
              "    <tr style=\"text-align: right;\">\n",
              "      <th></th>\n",
              "      <th>order_id</th>\n",
              "      <th>shop_id</th>\n",
              "      <th>user_id</th>\n",
              "      <th>order_amount</th>\n",
              "      <th>total_items</th>\n",
              "      <th>payment_method</th>\n",
              "      <th>created_at</th>\n",
              "    </tr>\n",
              "  </thead>\n",
              "  <tbody>\n",
              "    <tr>\n",
              "      <th>0</th>\n",
              "      <td>1</td>\n",
              "      <td>53</td>\n",
              "      <td>746</td>\n",
              "      <td>224</td>\n",
              "      <td>2</td>\n",
              "      <td>cash</td>\n",
              "      <td>2017-03-13 12:36:56</td>\n",
              "    </tr>\n",
              "    <tr>\n",
              "      <th>1</th>\n",
              "      <td>2</td>\n",
              "      <td>92</td>\n",
              "      <td>925</td>\n",
              "      <td>90</td>\n",
              "      <td>1</td>\n",
              "      <td>cash</td>\n",
              "      <td>2017-03-03 17:38:52</td>\n",
              "    </tr>\n",
              "    <tr>\n",
              "      <th>2</th>\n",
              "      <td>3</td>\n",
              "      <td>44</td>\n",
              "      <td>861</td>\n",
              "      <td>144</td>\n",
              "      <td>1</td>\n",
              "      <td>cash</td>\n",
              "      <td>2017-03-14 4:23:56</td>\n",
              "    </tr>\n",
              "    <tr>\n",
              "      <th>3</th>\n",
              "      <td>4</td>\n",
              "      <td>18</td>\n",
              "      <td>935</td>\n",
              "      <td>156</td>\n",
              "      <td>1</td>\n",
              "      <td>credit_card</td>\n",
              "      <td>2017-03-26 12:43:37</td>\n",
              "    </tr>\n",
              "    <tr>\n",
              "      <th>4</th>\n",
              "      <td>5</td>\n",
              "      <td>18</td>\n",
              "      <td>883</td>\n",
              "      <td>156</td>\n",
              "      <td>1</td>\n",
              "      <td>credit_card</td>\n",
              "      <td>2017-03-01 4:35:11</td>\n",
              "    </tr>\n",
              "    <tr>\n",
              "      <th>5</th>\n",
              "      <td>6</td>\n",
              "      <td>58</td>\n",
              "      <td>882</td>\n",
              "      <td>138</td>\n",
              "      <td>1</td>\n",
              "      <td>credit_card</td>\n",
              "      <td>2017-03-14 15:25:01</td>\n",
              "    </tr>\n",
              "    <tr>\n",
              "      <th>6</th>\n",
              "      <td>7</td>\n",
              "      <td>87</td>\n",
              "      <td>915</td>\n",
              "      <td>149</td>\n",
              "      <td>1</td>\n",
              "      <td>cash</td>\n",
              "      <td>2017-03-01 21:37:57</td>\n",
              "    </tr>\n",
              "    <tr>\n",
              "      <th>7</th>\n",
              "      <td>8</td>\n",
              "      <td>22</td>\n",
              "      <td>761</td>\n",
              "      <td>292</td>\n",
              "      <td>2</td>\n",
              "      <td>cash</td>\n",
              "      <td>2017-03-08 2:05:38</td>\n",
              "    </tr>\n",
              "    <tr>\n",
              "      <th>8</th>\n",
              "      <td>9</td>\n",
              "      <td>64</td>\n",
              "      <td>914</td>\n",
              "      <td>266</td>\n",
              "      <td>2</td>\n",
              "      <td>debit</td>\n",
              "      <td>2017-03-17 20:56:50</td>\n",
              "    </tr>\n",
              "    <tr>\n",
              "      <th>9</th>\n",
              "      <td>10</td>\n",
              "      <td>52</td>\n",
              "      <td>788</td>\n",
              "      <td>146</td>\n",
              "      <td>1</td>\n",
              "      <td>credit_card</td>\n",
              "      <td>2017-03-30 21:08:26</td>\n",
              "    </tr>\n",
              "  </tbody>\n",
              "</table>\n",
              "</div>"
            ],
            "text/plain": [
              "   order_id  shop_id  user_id  order_amount  total_items payment_method  \\\n",
              "0         1       53      746           224            2           cash   \n",
              "1         2       92      925            90            1           cash   \n",
              "2         3       44      861           144            1           cash   \n",
              "3         4       18      935           156            1    credit_card   \n",
              "4         5       18      883           156            1    credit_card   \n",
              "5         6       58      882           138            1    credit_card   \n",
              "6         7       87      915           149            1           cash   \n",
              "7         8       22      761           292            2           cash   \n",
              "8         9       64      914           266            2          debit   \n",
              "9        10       52      788           146            1    credit_card   \n",
              "\n",
              "            created_at  \n",
              "0  2017-03-13 12:36:56  \n",
              "1  2017-03-03 17:38:52  \n",
              "2   2017-03-14 4:23:56  \n",
              "3  2017-03-26 12:43:37  \n",
              "4   2017-03-01 4:35:11  \n",
              "5  2017-03-14 15:25:01  \n",
              "6  2017-03-01 21:37:57  \n",
              "7   2017-03-08 2:05:38  \n",
              "8  2017-03-17 20:56:50  \n",
              "9  2017-03-30 21:08:26  "
            ]
          },
          "metadata": {
            "tags": []
          },
          "execution_count": 13
        }
      ]
    },
    {
      "cell_type": "code",
      "metadata": {
        "id": "-xnnSRazsy89",
        "outputId": "6f039924-920e-4136-f6c3-a1f66a98a735"
      },
      "source": [
        "df.describe().round(2)"
      ],
      "execution_count": null,
      "outputs": [
        {
          "output_type": "execute_result",
          "data": {
            "text/html": [
              "<div>\n",
              "<style scoped>\n",
              "    .dataframe tbody tr th:only-of-type {\n",
              "        vertical-align: middle;\n",
              "    }\n",
              "\n",
              "    .dataframe tbody tr th {\n",
              "        vertical-align: top;\n",
              "    }\n",
              "\n",
              "    .dataframe thead th {\n",
              "        text-align: right;\n",
              "    }\n",
              "</style>\n",
              "<table border=\"1\" class=\"dataframe\">\n",
              "  <thead>\n",
              "    <tr style=\"text-align: right;\">\n",
              "      <th></th>\n",
              "      <th>order_id</th>\n",
              "      <th>shop_id</th>\n",
              "      <th>user_id</th>\n",
              "      <th>order_amount</th>\n",
              "      <th>total_items</th>\n",
              "    </tr>\n",
              "  </thead>\n",
              "  <tbody>\n",
              "    <tr>\n",
              "      <th>count</th>\n",
              "      <td>5000.00</td>\n",
              "      <td>5000.00</td>\n",
              "      <td>5000.00</td>\n",
              "      <td>5000.00</td>\n",
              "      <td>5000.00</td>\n",
              "    </tr>\n",
              "    <tr>\n",
              "      <th>mean</th>\n",
              "      <td>2500.50</td>\n",
              "      <td>50.08</td>\n",
              "      <td>849.09</td>\n",
              "      <td>3145.13</td>\n",
              "      <td>8.79</td>\n",
              "    </tr>\n",
              "    <tr>\n",
              "      <th>std</th>\n",
              "      <td>1443.52</td>\n",
              "      <td>29.01</td>\n",
              "      <td>87.80</td>\n",
              "      <td>41282.54</td>\n",
              "      <td>116.32</td>\n",
              "    </tr>\n",
              "    <tr>\n",
              "      <th>min</th>\n",
              "      <td>1.00</td>\n",
              "      <td>1.00</td>\n",
              "      <td>607.00</td>\n",
              "      <td>90.00</td>\n",
              "      <td>1.00</td>\n",
              "    </tr>\n",
              "    <tr>\n",
              "      <th>25%</th>\n",
              "      <td>1250.75</td>\n",
              "      <td>24.00</td>\n",
              "      <td>775.00</td>\n",
              "      <td>163.00</td>\n",
              "      <td>1.00</td>\n",
              "    </tr>\n",
              "    <tr>\n",
              "      <th>50%</th>\n",
              "      <td>2500.50</td>\n",
              "      <td>50.00</td>\n",
              "      <td>849.00</td>\n",
              "      <td>284.00</td>\n",
              "      <td>2.00</td>\n",
              "    </tr>\n",
              "    <tr>\n",
              "      <th>75%</th>\n",
              "      <td>3750.25</td>\n",
              "      <td>75.00</td>\n",
              "      <td>925.00</td>\n",
              "      <td>390.00</td>\n",
              "      <td>3.00</td>\n",
              "    </tr>\n",
              "    <tr>\n",
              "      <th>max</th>\n",
              "      <td>5000.00</td>\n",
              "      <td>100.00</td>\n",
              "      <td>999.00</td>\n",
              "      <td>704000.00</td>\n",
              "      <td>2000.00</td>\n",
              "    </tr>\n",
              "  </tbody>\n",
              "</table>\n",
              "</div>"
            ],
            "text/plain": [
              "       order_id  shop_id  user_id  order_amount  total_items\n",
              "count   5000.00  5000.00  5000.00       5000.00      5000.00\n",
              "mean    2500.50    50.08   849.09       3145.13         8.79\n",
              "std     1443.52    29.01    87.80      41282.54       116.32\n",
              "min        1.00     1.00   607.00         90.00         1.00\n",
              "25%     1250.75    24.00   775.00        163.00         1.00\n",
              "50%     2500.50    50.00   849.00        284.00         2.00\n",
              "75%     3750.25    75.00   925.00        390.00         3.00\n",
              "max     5000.00   100.00   999.00     704000.00      2000.00"
            ]
          },
          "metadata": {
            "tags": []
          },
          "execution_count": 14
        }
      ]
    },
    {
      "cell_type": "markdown",
      "metadata": {
        "id": "0hcvkriisy8-"
      },
      "source": [
        ""
      ]
    },
    {
      "cell_type": "markdown",
      "metadata": {
        "id": "eFzrLLLwsy8-"
      },
      "source": [
        "By analyzing the table above, it's possible to understand that the 'order_amount' mean was used calculate the average order value (AOV). Although the AOV ends up being a mean, it's not correct to use it in the case at hand because the standard deviation (std) is 41282.54, this means that we probably have outliers impacting the mean."
      ]
    },
    {
      "cell_type": "code",
      "metadata": {
        "id": "0YxvCg7Qsy8-",
        "outputId": "7ff05fb3-08b3-420a-c006-24b821132bf3"
      },
      "source": [
        "#Let's create a boxplot and search for some outliers\n",
        "df.boxplot(column='order_amount')"
      ],
      "execution_count": null,
      "outputs": [
        {
          "output_type": "execute_result",
          "data": {
            "text/plain": [
              "<matplotlib.axes._subplots.AxesSubplot at 0x1da07daaac0>"
            ]
          },
          "metadata": {
            "tags": []
          },
          "execution_count": 15
        },
        {
          "output_type": "display_data",
          "data": {
            "image/png": "[encoded data removed]",
            "text/plain": [
              "<Figure size 432x288 with 1 Axes>"
            ]
          },
          "metadata": {
            "tags": [],
            "needs_background": "light"
          }
        }
      ]
    },
    {
      "cell_type": "markdown",
      "metadata": {
        "id": "o9Lv22X-sy8_"
      },
      "source": [
        "The boxplot showed us that we have many outliers in such a way that the upper values have compressed the box to the shape next to a line in our chart. This also explains why the mean and standard deviation are so high. Extremely high outliers interfere with the mean and make the AOV unreal. Once said that the sneakers are a relatively affordable items, the AOV should be a lower value to reflect the actual orders.\n",
        "\n",
        "Skewness can show how uneven the distribuition is. The closer to zero, the more normal the distribution will be"
      ]
    },
    {
      "cell_type": "code",
      "metadata": {
        "id": "mi7WmF1Zsy8_",
        "outputId": "f333f8f4-54cc-40c9-ffad-109a0ef3b3a5"
      },
      "source": [
        "skewness = df['order_amount'].skew()\n",
        "skewness"
      ],
      "execution_count": null,
      "outputs": [
        {
          "output_type": "execute_result",
          "data": {
            "text/plain": [
              "16.675033432503792"
            ]
          },
          "metadata": {
            "tags": []
          },
          "execution_count": 16
        }
      ]
    },
    {
      "cell_type": "markdown",
      "metadata": {
        "id": "1nfG9Dalsy8_"
      },
      "source": [
        "Let's check some of the outliers and try to understand better the dataset:"
      ]
    },
    {
      "cell_type": "code",
      "metadata": {
        "id": "cSOhr8-asy8_",
        "outputId": "bcb43d3f-f632-425c-93c2-8e5320cbe2fb"
      },
      "source": [
        "outliers = df.sort_values('order_amount', ascending = False)\n",
        "outliers.head(20)"
      ],
      "execution_count": null,
      "outputs": [
        {
          "output_type": "execute_result",
          "data": {
            "text/html": [
              "<div>\n",
              "<style scoped>\n",
              "    .dataframe tbody tr th:only-of-type {\n",
              "        vertical-align: middle;\n",
              "    }\n",
              "\n",
              "    .dataframe tbody tr th {\n",
              "        vertical-align: top;\n",
              "    }\n",
              "\n",
              "    .dataframe thead th {\n",
              "        text-align: right;\n",
              "    }\n",
              "</style>\n",
              "<table border=\"1\" class=\"dataframe\">\n",
              "  <thead>\n",
              "    <tr style=\"text-align: right;\">\n",
              "      <th></th>\n",
              "      <th>order_id</th>\n",
              "      <th>shop_id</th>\n",
              "      <th>user_id</th>\n",
              "      <th>order_amount</th>\n",
              "      <th>total_items</th>\n",
              "      <th>payment_method</th>\n",
              "      <th>created_at</th>\n",
              "    </tr>\n",
              "  </thead>\n",
              "  <tbody>\n",
              "    <tr>\n",
              "      <th>2153</th>\n",
              "      <td>2154</td>\n",
              "      <td>42</td>\n",
              "      <td>607</td>\n",
              "      <td>704000</td>\n",
              "      <td>2000</td>\n",
              "      <td>credit_card</td>\n",
              "      <td>2017-03-12 4:00:00</td>\n",
              "    </tr>\n",
              "    <tr>\n",
              "      <th>3332</th>\n",
              "      <td>3333</td>\n",
              "      <td>42</td>\n",
              "      <td>607</td>\n",
              "      <td>704000</td>\n",
              "      <td>2000</td>\n",
              "      <td>credit_card</td>\n",
              "      <td>2017-03-24 4:00:00</td>\n",
              "    </tr>\n",
              "    <tr>\n",
              "      <th>520</th>\n",
              "      <td>521</td>\n",
              "      <td>42</td>\n",
              "      <td>607</td>\n",
              "      <td>704000</td>\n",
              "      <td>2000</td>\n",
              "      <td>credit_card</td>\n",
              "      <td>2017-03-02 4:00:00</td>\n",
              "    </tr>\n",
              "    <tr>\n",
              "      <th>1602</th>\n",
              "      <td>1603</td>\n",
              "      <td>42</td>\n",
              "      <td>607</td>\n",
              "      <td>704000</td>\n",
              "      <td>2000</td>\n",
              "      <td>credit_card</td>\n",
              "      <td>2017-03-17 4:00:00</td>\n",
              "    </tr>\n",
              "    <tr>\n",
              "      <th>60</th>\n",
              "      <td>61</td>\n",
              "      <td>42</td>\n",
              "      <td>607</td>\n",
              "      <td>704000</td>\n",
              "      <td>2000</td>\n",
              "      <td>credit_card</td>\n",
              "      <td>2017-03-04 4:00:00</td>\n",
              "    </tr>\n",
              "    <tr>\n",
              "      <th>2835</th>\n",
              "      <td>2836</td>\n",
              "      <td>42</td>\n",
              "      <td>607</td>\n",
              "      <td>704000</td>\n",
              "      <td>2000</td>\n",
              "      <td>credit_card</td>\n",
              "      <td>2017-03-28 4:00:00</td>\n",
              "    </tr>\n",
              "    <tr>\n",
              "      <th>4646</th>\n",
              "      <td>4647</td>\n",
              "      <td>42</td>\n",
              "      <td>607</td>\n",
              "      <td>704000</td>\n",
              "      <td>2000</td>\n",
              "      <td>credit_card</td>\n",
              "      <td>2017-03-02 4:00:00</td>\n",
              "    </tr>\n",
              "    <tr>\n",
              "      <th>2297</th>\n",
              "      <td>2298</td>\n",
              "      <td>42</td>\n",
              "      <td>607</td>\n",
              "      <td>704000</td>\n",
              "      <td>2000</td>\n",
              "      <td>credit_card</td>\n",
              "      <td>2017-03-07 4:00:00</td>\n",
              "    </tr>\n",
              "    <tr>\n",
              "      <th>1436</th>\n",
              "      <td>1437</td>\n",
              "      <td>42</td>\n",
              "      <td>607</td>\n",
              "      <td>704000</td>\n",
              "      <td>2000</td>\n",
              "      <td>credit_card</td>\n",
              "      <td>2017-03-11 4:00:00</td>\n",
              "    </tr>\n",
              "    <tr>\n",
              "      <th>4882</th>\n",
              "      <td>4883</td>\n",
              "      <td>42</td>\n",
              "      <td>607</td>\n",
              "      <td>704000</td>\n",
              "      <td>2000</td>\n",
              "      <td>credit_card</td>\n",
              "      <td>2017-03-25 4:00:00</td>\n",
              "    </tr>\n",
              "    <tr>\n",
              "      <th>4056</th>\n",
              "      <td>4057</td>\n",
              "      <td>42</td>\n",
              "      <td>607</td>\n",
              "      <td>704000</td>\n",
              "      <td>2000</td>\n",
              "      <td>credit_card</td>\n",
              "      <td>2017-03-28 4:00:00</td>\n",
              "    </tr>\n",
              "    <tr>\n",
              "      <th>15</th>\n",
              "      <td>16</td>\n",
              "      <td>42</td>\n",
              "      <td>607</td>\n",
              "      <td>704000</td>\n",
              "      <td>2000</td>\n",
              "      <td>credit_card</td>\n",
              "      <td>2017-03-07 4:00:00</td>\n",
              "    </tr>\n",
              "    <tr>\n",
              "      <th>1104</th>\n",
              "      <td>1105</td>\n",
              "      <td>42</td>\n",
              "      <td>607</td>\n",
              "      <td>704000</td>\n",
              "      <td>2000</td>\n",
              "      <td>credit_card</td>\n",
              "      <td>2017-03-24 4:00:00</td>\n",
              "    </tr>\n",
              "    <tr>\n",
              "      <th>1562</th>\n",
              "      <td>1563</td>\n",
              "      <td>42</td>\n",
              "      <td>607</td>\n",
              "      <td>704000</td>\n",
              "      <td>2000</td>\n",
              "      <td>credit_card</td>\n",
              "      <td>2017-03-19 4:00:00</td>\n",
              "    </tr>\n",
              "    <tr>\n",
              "      <th>2969</th>\n",
              "      <td>2970</td>\n",
              "      <td>42</td>\n",
              "      <td>607</td>\n",
              "      <td>704000</td>\n",
              "      <td>2000</td>\n",
              "      <td>credit_card</td>\n",
              "      <td>2017-03-28 4:00:00</td>\n",
              "    </tr>\n",
              "    <tr>\n",
              "      <th>4868</th>\n",
              "      <td>4869</td>\n",
              "      <td>42</td>\n",
              "      <td>607</td>\n",
              "      <td>704000</td>\n",
              "      <td>2000</td>\n",
              "      <td>credit_card</td>\n",
              "      <td>2017-03-22 4:00:00</td>\n",
              "    </tr>\n",
              "    <tr>\n",
              "      <th>1362</th>\n",
              "      <td>1363</td>\n",
              "      <td>42</td>\n",
              "      <td>607</td>\n",
              "      <td>704000</td>\n",
              "      <td>2000</td>\n",
              "      <td>credit_card</td>\n",
              "      <td>2017-03-15 4:00:00</td>\n",
              "    </tr>\n",
              "    <tr>\n",
              "      <th>691</th>\n",
              "      <td>692</td>\n",
              "      <td>78</td>\n",
              "      <td>878</td>\n",
              "      <td>154350</td>\n",
              "      <td>6</td>\n",
              "      <td>debit</td>\n",
              "      <td>2017-03-27 22:51:43</td>\n",
              "    </tr>\n",
              "    <tr>\n",
              "      <th>2492</th>\n",
              "      <td>2493</td>\n",
              "      <td>78</td>\n",
              "      <td>834</td>\n",
              "      <td>102900</td>\n",
              "      <td>4</td>\n",
              "      <td>debit</td>\n",
              "      <td>2017-03-04 4:37:34</td>\n",
              "    </tr>\n",
              "    <tr>\n",
              "      <th>3724</th>\n",
              "      <td>3725</td>\n",
              "      <td>78</td>\n",
              "      <td>766</td>\n",
              "      <td>77175</td>\n",
              "      <td>3</td>\n",
              "      <td>credit_card</td>\n",
              "      <td>2017-03-16 14:13:26</td>\n",
              "    </tr>\n",
              "  </tbody>\n",
              "</table>\n",
              "</div>"
            ],
            "text/plain": [
              "      order_id  shop_id  user_id  order_amount  total_items payment_method  \\\n",
              "2153      2154       42      607        704000         2000    credit_card   \n",
              "3332      3333       42      607        704000         2000    credit_card   \n",
              "520        521       42      607        704000         2000    credit_card   \n",
              "1602      1603       42      607        704000         2000    credit_card   \n",
              "60          61       42      607        704000         2000    credit_card   \n",
              "2835      2836       42      607        704000         2000    credit_card   \n",
              "4646      4647       42      607        704000         2000    credit_card   \n",
              "2297      2298       42      607        704000         2000    credit_card   \n",
              "1436      1437       42      607        704000         2000    credit_card   \n",
              "4882      4883       42      607        704000         2000    credit_card   \n",
              "4056      4057       42      607        704000         2000    credit_card   \n",
              "15          16       42      607        704000         2000    credit_card   \n",
              "1104      1105       42      607        704000         2000    credit_card   \n",
              "1562      1563       42      607        704000         2000    credit_card   \n",
              "2969      2970       42      607        704000         2000    credit_card   \n",
              "4868      4869       42      607        704000         2000    credit_card   \n",
              "1362      1363       42      607        704000         2000    credit_card   \n",
              "691        692       78      878        154350            6          debit   \n",
              "2492      2493       78      834        102900            4          debit   \n",
              "3724      3725       78      766         77175            3    credit_card   \n",
              "\n",
              "               created_at  \n",
              "2153   2017-03-12 4:00:00  \n",
              "3332   2017-03-24 4:00:00  \n",
              "520    2017-03-02 4:00:00  \n",
              "1602   2017-03-17 4:00:00  \n",
              "60     2017-03-04 4:00:00  \n",
              "2835   2017-03-28 4:00:00  \n",
              "4646   2017-03-02 4:00:00  \n",
              "2297   2017-03-07 4:00:00  \n",
              "1436   2017-03-11 4:00:00  \n",
              "4882   2017-03-25 4:00:00  \n",
              "4056   2017-03-28 4:00:00  \n",
              "15     2017-03-07 4:00:00  \n",
              "1104   2017-03-24 4:00:00  \n",
              "1562   2017-03-19 4:00:00  \n",
              "2969   2017-03-28 4:00:00  \n",
              "4868   2017-03-22 4:00:00  \n",
              "1362   2017-03-15 4:00:00  \n",
              "691   2017-03-27 22:51:43  \n",
              "2492   2017-03-04 4:37:34  \n",
              "3724  2017-03-16 14:13:26  "
            ]
          },
          "metadata": {
            "tags": []
          },
          "execution_count": 17
        }
      ]
    },
    {
      "cell_type": "markdown",
      "metadata": {
        "id": "g29ZmIgdsy9A"
      },
      "source": [
        "As shown in the chart above, the dataset shows orders with 2000 units of sneakers. This tends to represent a business to business (B2B) operation and would be outside the scope of our analysis.\n",
        "\n",
        "One way to achieve a more accurate AOV is to exclude outliers from the analysis and use the Inter-Quartile Range to work only with the most common data, which represents business to clients (B2C) operations. In a Gaussian distribution about 99.72% of the whole data lies within three standard deviations (<3σ) of the mean (μ). To achieve this result and create a more appropriate dataset, we need to use the interquartile distance, multiply it by 1.5 and add it to the median (quartile 0.5), and do the same process but now subtracting. The reason for choosing 1.5 as the scale is because "
      ]
    },
    {
      "cell_type": "code",
      "metadata": {
        "id": "FAA6QDZMsy9A"
      },
      "source": [
        "#Inter-Quartile Range\n",
        "IQR = df['order_amount'].quantile(0.75) - df['order_amount'].quantile(0.25)"
      ],
      "execution_count": null,
      "outputs": []
    },
    {
      "cell_type": "code",
      "metadata": {
        "id": "OkpCFNSisy9A"
      },
      "source": [
        "q2 = df['order_amount'].quantile(0.5)\n",
        "df_truncated = df[(df.order_amount < q2 + IQR * 1.5) & (df.order_amount > q2 - IQR * 1.5)]"
      ],
      "execution_count": null,
      "outputs": []
    },
    {
      "cell_type": "code",
      "metadata": {
        "id": "gHVGWJ0gsy9B",
        "outputId": "1721767c-988d-4f54-f31c-771303a22289"
      },
      "source": [
        "#New skewness check\n",
        "df_truncated['order_amount'].skew()"
      ],
      "execution_count": null,
      "outputs": [
        {
          "output_type": "execute_result",
          "data": {
            "text/plain": [
              "0.5476746052976321"
            ]
          },
          "metadata": {
            "tags": []
          },
          "execution_count": 20
        }
      ]
    },
    {
      "cell_type": "code",
      "metadata": {
        "id": "43WIPc3ssy9B",
        "outputId": "39cc9a17-75c0-4234-8b29-189c52ca249d"
      },
      "source": [
        "df_truncated.boxplot(column='order_amount')"
      ],
      "execution_count": null,
      "outputs": [
        {
          "output_type": "execute_result",
          "data": {
            "text/plain": [
              "<matplotlib.axes._subplots.AxesSubplot at 0x1da07dbbee0>"
            ]
          },
          "metadata": {
            "tags": []
          },
          "execution_count": 21
        },
        {
          "output_type": "display_data",
          "data": {
            "image/png": "[encoded data removed]",
            "text/plain": [
              "<Figure size 432x288 with 1 Axes>"
            ]
          },
          "metadata": {
            "tags": [],
            "needs_background": "light"
          }
        }
      ]
    },
    {
      "cell_type": "markdown",
      "metadata": {
        "id": "iExSsyQEsy9B"
      },
      "source": [
        "The result after the data processing was satisfactory. Skewness and standard deviation decreased with regard to what we found in the original dataset. The boxplot is also better to visualize. However, the skewness higher than zero indicates that the distribution is slightly asymmetric, with the tail to the right. Thus, we suggest to adopt the median for a more reliable AOV."
      ]
    },
    {
      "cell_type": "code",
      "metadata": {
        "id": "hkyvwSa0sy9B",
        "outputId": "ca6bd23d-fb84-4bbc-ac2a-5f70b2b3432e"
      },
      "source": [
        "df_truncated.describe().round(2)"
      ],
      "execution_count": null,
      "outputs": [
        {
          "output_type": "execute_result",
          "data": {
            "text/html": [
              "<div>\n",
              "<style scoped>\n",
              "    .dataframe tbody tr th:only-of-type {\n",
              "        vertical-align: middle;\n",
              "    }\n",
              "\n",
              "    .dataframe tbody tr th {\n",
              "        vertical-align: top;\n",
              "    }\n",
              "\n",
              "    .dataframe thead th {\n",
              "        text-align: right;\n",
              "    }\n",
              "</style>\n",
              "<table border=\"1\" class=\"dataframe\">\n",
              "  <thead>\n",
              "    <tr style=\"text-align: right;\">\n",
              "      <th></th>\n",
              "      <th>order_id</th>\n",
              "      <th>shop_id</th>\n",
              "      <th>user_id</th>\n",
              "      <th>order_amount</th>\n",
              "      <th>total_items</th>\n",
              "    </tr>\n",
              "  </thead>\n",
              "  <tbody>\n",
              "    <tr>\n",
              "      <th>count</th>\n",
              "      <td>4738.00</td>\n",
              "      <td>4738.00</td>\n",
              "      <td>4738.00</td>\n",
              "      <td>4738.00</td>\n",
              "      <td>4738.00</td>\n",
              "    </tr>\n",
              "    <tr>\n",
              "      <th>mean</th>\n",
              "      <td>2500.87</td>\n",
              "      <td>49.77</td>\n",
              "      <td>850.33</td>\n",
              "      <td>283.81</td>\n",
              "      <td>1.90</td>\n",
              "    </tr>\n",
              "    <tr>\n",
              "      <th>std</th>\n",
              "      <td>1444.27</td>\n",
              "      <td>29.15</td>\n",
              "      <td>86.80</td>\n",
              "      <td>132.06</td>\n",
              "      <td>0.86</td>\n",
              "    </tr>\n",
              "    <tr>\n",
              "      <th>min</th>\n",
              "      <td>1.00</td>\n",
              "      <td>1.00</td>\n",
              "      <td>700.00</td>\n",
              "      <td>90.00</td>\n",
              "      <td>1.00</td>\n",
              "    </tr>\n",
              "    <tr>\n",
              "      <th>25%</th>\n",
              "      <td>1247.25</td>\n",
              "      <td>24.00</td>\n",
              "      <td>776.00</td>\n",
              "      <td>161.00</td>\n",
              "      <td>1.00</td>\n",
              "    </tr>\n",
              "    <tr>\n",
              "      <th>50%</th>\n",
              "      <td>2502.50</td>\n",
              "      <td>50.00</td>\n",
              "      <td>851.00</td>\n",
              "      <td>272.00</td>\n",
              "      <td>2.00</td>\n",
              "    </tr>\n",
              "    <tr>\n",
              "      <th>75%</th>\n",
              "      <td>3755.75</td>\n",
              "      <td>74.00</td>\n",
              "      <td>926.00</td>\n",
              "      <td>362.00</td>\n",
              "      <td>2.00</td>\n",
              "    </tr>\n",
              "    <tr>\n",
              "      <th>max</th>\n",
              "      <td>5000.00</td>\n",
              "      <td>100.00</td>\n",
              "      <td>999.00</td>\n",
              "      <td>624.00</td>\n",
              "      <td>5.00</td>\n",
              "    </tr>\n",
              "  </tbody>\n",
              "</table>\n",
              "</div>"
            ],
            "text/plain": [
              "       order_id  shop_id  user_id  order_amount  total_items\n",
              "count   4738.00  4738.00  4738.00       4738.00      4738.00\n",
              "mean    2500.87    49.77   850.33        283.81         1.90\n",
              "std     1444.27    29.15    86.80        132.06         0.86\n",
              "min        1.00     1.00   700.00         90.00         1.00\n",
              "25%     1247.25    24.00   776.00        161.00         1.00\n",
              "50%     2502.50    50.00   851.00        272.00         2.00\n",
              "75%     3755.75    74.00   926.00        362.00         2.00\n",
              "max     5000.00   100.00   999.00        624.00         5.00"
            ]
          },
          "metadata": {
            "tags": []
          },
          "execution_count": 22
        }
      ]
    },
    {
      "cell_type": "markdown",
      "metadata": {
        "id": "zc0FPcKLsy9C"
      },
      "source": [
        "## Final considerations\n",
        "\n",
        "By removing the outliers we can achieve a result that represents most B2C operations. Although there are still some purchases with above average values (which is demonstrated through the slightly positive skeness), we can adopt the median as the most central measure of distribution."
      ]
    },
    {
      "cell_type": "code",
      "metadata": {
        "id": "4_RJ5Sb_sy9C"
      },
      "source": [
        ""
      ],
      "execution_count": null,
      "outputs": []
    }
  ]
}